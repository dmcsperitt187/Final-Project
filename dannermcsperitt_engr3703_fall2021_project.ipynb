{
 "cells": [
  {
   "cell_type": "code",
   "execution_count": 3,
   "metadata": {},
   "outputs": [
    {
     "data": {
      "image/png": "[encoded data removed]",
      "text/plain": [
       "<Figure size 432x432 with 1 Axes>"
      ]
     },
     "metadata": {
      "needs_background": "light"
     },
     "output_type": "display_data"
    }
   ],
   "source": [
    "%matplotlib inline\n",
    "from math import *\n",
    "import numpy as np\n",
    "import matplotlib.pyplot as plt\n",
    "\n",
    "# function to solve second order ODE\n",
    "fx = lambda v: v    #velocity\n",
    "\n",
    "fv = lambda x,v: F/m-(2*zeta*omega*v)-((omega**2)*x)    #position\n",
    "\n",
    "#function to solve dv/dt = F/m - 2*zeta*omega*v - (omega**2)*x\n",
    "def rk4_x(x0,v0,h):\n",
    "    K1_v = h*fx(v0)\n",
    "    K1_x = h*fv(x0,v0)\n",
    "    K2_v = h*fx(v0+K1_x*h/2)\n",
    "    K2_x = h*fv(x0+K1_v*h/2,v0+K1_x*h/2)\n",
    "    K3_v = h*fx(v0+K2_x*h/2)\n",
    "    K3_x = h*fv(x0+K2_v*h/2,v0+K2_x*h/2)\n",
    "    K4_v = h*fx(v0+K3_x*h)\n",
    "    K4_x = h*fv(x0+K3_v*h,v0+K3_x*h)\n",
    "    x = x0+(1./6)*(K1_v+2*K2_v+2*K3_v+K4_v)\n",
    "    v = v0+(1./6)*(K1_x+2*K2_x+2*K3_x+K4_x)\n",
    "    return x\n",
    "   \n",
    "#function to solve v = dx/dt\n",
    "def rk4_v(v0,x0,h):\n",
    "    K1_v = h*fx(v0)\n",
    "    K1_x = h*fv(x0,v0)\n",
    "    K2_v = h*fx(v0+K1_x*h/2)\n",
    "    K2_x = h*fv(x0+K1_v*h/2,v0+K1_x*h/2)\n",
    "    K3_v = h*fx(v0+K2_x*h/2)\n",
    "    K3_x = h*fv(x0+K2_v*h/2,v0+K2_x*h/2)\n",
    "    K4_v = h*fx(v0+K3_x*h)\n",
    "    K4_x = h*fv(x0+K3_v*h,v0+K3_x*h)\n",
    "    x = x0+(1./6)*(K1_v+2*K2_v+2*K3_v+K4_v)\n",
    "    v = v0+(1./6)*(K1_x+2*K2_x+2*K3_x+K4_x)\n",
    "    return v\n",
    "\n",
    "a = 0.            #initial value for t\n",
    "b = 10.            #final value for t\n",
    "n = 10             #number of t values\n",
    "h = (b-a)/(n-1.)  #step size\n",
    "\n",
    "#initial values for each variable\n",
    "ti = a\n",
    "xi = 1.\n",
    "vi = 0.\n",
    "\n",
    "#constant values\n",
    "F = 0.\n",
    "m = 1.\n",
    "zeta = 10.\n",
    "omega = 1.\n",
    "    \n",
    "#arrays for plotting\n",
    "t_rk4 = np.zeros(n)\n",
    "t_rk4[0] = a\n",
    "x_rk4 = np.zeros(n)\n",
    "x_rk4[0] = xi\n",
    "v_rk4 = np.zeros(n)\n",
    "v_rk4[0]= vi    \n",
    "    \n",
    "for i in range(1,n):\n",
    "    v_rk4[i] = rk4_v(x_rk4[i-1],v_rk4[i-1],h)\n",
    "    x_rk4[i] = rk4_x(x_rk4[i-1],v_rk4[i-1],h)\n",
    "    t_rk4[i] = a + i*h\n",
    "\n",
    "# plot for displacement vs time     \n",
    "fig = plt.figure(figsize=(6,6))\n",
    "#plt.plot(x_TS,y_TS,label=\"Exact Solution\",color=\"b\",linewidth=\"2.0\")\n",
    "plt.plot(t_rk4,x_rk4,label=\"Runge-Kutta 4\",color=\"r\",linestyle=\"--\",linewidth=\"2.0\")\n",
    "#plt.title(f\"Exact solution of ${fxy_lhs_syms}={fxy_rhs_syms}$ subject to ${iv_lhs_syms}={iv_rhs_syms}$ for $x_0$={a} and RK2 with step size of {h:.3f}\")\n",
    "#plt.text(0,2.3, f\"$c_1$={c1:.2f}\\n$c_2$={c2:.2f}\\n$c_3$={c3:.2f}\\n$c_4$={c4:.2f}\\n$a_2$={a2:.2f}\\n$a_3$={a3:.2f}\\n$a_4$={a4:.2f}\\n$b_{{21}}$={b21:.2f}\\n$b_{{31}}$={b31:.2f}\\n$b_{{32}}$={b32:.2f}\\n$b_{{41}}$={b41:.2f}\\n$b_{{42}}$={b42:.2f}\\n$b_{{43}}$={b43:.2f}\")\n",
    "plt.legend()\n",
    "plt.tight_layout()\n",
    "plt.show()"
   ]
  },
  {
   "cell_type": "code",
   "execution_count": null,
   "metadata": {},
   "outputs": [],
   "source": []
  },
  {
   "cell_type": "code",
   "execution_count": null,
   "metadata": {},
   "outputs": [],
   "source": []
  }
 ],
 "metadata": {
  "kernelspec": {
   "display_name": "Python 3",
   "language": "python",
   "name": "python3"
  },
  "language_info": {
   "codemirror_mode": {
    "name": "ipython",
    "version": 3
   },
   "file_extension": ".py",
   "mimetype": "text/x-python",
   "name": "python",
   "nbconvert_exporter": "python",
   "pygments_lexer": "ipython3",
   "version": "3.7.4"
  }
 },
 "nbformat": 4,
 "nbformat_minor": 4
}
